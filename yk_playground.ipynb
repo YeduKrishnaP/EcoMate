{
 "cells": [
  {
   "cell_type": "code",
   "execution_count": null,
   "id": "719ce1d5",
   "metadata": {},
   "outputs": [],
   "source": [
    "x = {'id': '6604140d-a639-47f4-b7bd-2b2c22c06e74', 'model': 'sonar', 'created': 1758335262, 'usage': {'prompt_tokens': 360, 'completion_tokens': 293, 'total_tokens': 653, 'search_context_size': 'low', 'cost': {'input_tokens_cost': 0.0, 'output_tokens_cost': 0.0, 'request_cost': 0.005, 'total_cost': 0.006}}, 'citations': ['https://www.youtube.com/watch?v=QB_8pHm8eNk', 'https://www.frontiersin.org/journals/environmental-science/articles/10.3389/fenvs.2023.1228732/full', 'https://www.recyclecoach.com/blog/what-to-do-with-aluminum-foil', 'https://www.nature.com/articles/s41598-025-94772-x', 'https://ecoverva.com/aluminum-foil-unwrapping-the-myths-and-facts-of-its-recyclability/', 'https://www.roadrunnerwm.com/blog/the-5-rs-of-waste-recycling', 'https://earth911.com/recycling-guide/how-to-recycle-aluminum-foil/', 'https://www.repsol.com/en/energy-move-forward/energy/types-of-waste/index.cshtml', 'https://ifyoucare.com/wraps/p/recycled-foil', 'https://www.plt.org/wp-content/uploads/pdf/Early-Childhood-GreenSchools-Waste-Investigations-SFI.pdf'], 'search_results': [{'title': \"Stop Throwing Out Aluminum Foil! Here's the Right Way to Recycle It ...\", 'url': 'https://www.youtube.com/watch?v=QB_8pHm8eNk', 'date': '2025-06-07', 'last_updated': '2025-06-09', 'snippet': \"... waste living, recycling hacks, or sustainable tips that actually ... Stop Throwing Out Aluminum Foil! Here's the Right Way to Recycle ...\"}, {'title': 'Classification of waste materials with a smart garbage system for ...', 'url': 'https://www.frontiersin.org/journals/environmental-science/articles/10.3389/fenvs.2023.1228732/full', 'date': '2023-08-24', 'last_updated': '2025-07-09', 'snippet': 'There is a need for a smart system that automatically detects and classifies the waste materials in the garbage.'}, {'title': '5 Essential Tips for Recycling Aluminum Foil the Right Way', 'url': 'https://www.recyclecoach.com/blog/what-to-do-with-aluminum-foil', 'date': '2022-10-01', 'last_updated': '2025-08-29', 'snippet': 'A single American throws away roughly three pounds of foil every year. If it reaches the landfill, it will take approximately 400 years to break down through ...'}, {'title': 'Advancing e-waste classification with customizable YOLO based ...', 'url': 'https://www.nature.com/articles/s41598-025-94772-x', 'date': '2025-05-25', 'last_updated': '2025-05-25', 'snippet': 'This research delves into a comprehensive analysis of three cutting-edge object detection models: YOLOv5, YOLOv7, and YOLOv8.'}, {'title': 'Aluminum Foil: Unwrapping the Myths and Facts of Its Recyclability', 'url': 'https://ecoverva.com/aluminum-foil-unwrapping-the-myths-and-facts-of-its-recyclability/', 'date': '2024-09-13', 'last_updated': '2024-09-17', 'snippet': \"The good news is that aluminum foil is recyclable. However, the process isn't as straightforward as tossing a clean soda can into the bin.\"}, {'title': \"The 5 R's: Refuse, Reduce, Reuse, Repurpose, Recycle\", 'url': 'https://www.roadrunnerwm.com/blog/the-5-rs-of-waste-recycling', 'date': '2023-11-08', 'last_updated': '2025-09-20', 'snippet': \"In this post, we explain each of the 5 R's (refuse, reduce, reuse, repurpose and recycle) and how putting them into practice will benefit your business.\"}, {'title': 'How to Recycle Aluminum Foil - Earth911', 'url': 'https://earth911.com/recycling-guide/how-to-recycle-aluminum-foil/', 'date': '2023-02-25', 'last_updated': '2025-09-16', 'snippet': 'However, some curbside programs and many transfer stations and metal recyclers do accept clean foil. Check with your recycling program to confirm local aluminum ...'}, {'title': 'Types of waste: according to its origin, composition, and ... - Repsol', 'url': 'https://www.repsol.com/en/energy-move-forward/energy/types-of-waste/index.cshtml', 'date': '2024-07-07', 'last_updated': '2025-09-19', 'snippet': 'Waste according to its composition · Paper and cardboard. They represent a significant part of the waste we generate and are easily recyclable.'}, {'title': 'IYC Recycled Foil - If You Care', 'url': 'https://ifyoucare.com/wraps/p/recycled-foil', 'date': '2024-04-23', 'last_updated': '2025-09-18', 'snippet': 'If You Care Aluminum Foil is made with 100% recycled aluminum. While traditional foil manufacturing is a power-intensive process, ours uses 95% less energy ...'}, {'title': '[PDF] Waste & Recycling Investigation - Project Learning Tree', 'url': 'https://www.plt.org/wp-content/uploads/pdf/Early-Childhood-GreenSchools-Waste-Investigations-SFI.pdf', 'date': None, 'last_updated': '2025-05-20', 'snippet': 'Have them color and cut out the pictures. Then they can classify the items by pasting each picture under the appropriate heading. (Recycle, Compost, Throw Away) ...'}], 'object': 'chat.completion', 'choices': [{'index': 0, 'finish_reason': 'stop', 'message': {'role': 'assistant', 'content': 'The waste in the image is **used aluminum foil**, which appears to have some food residue.\\n\\n### Classification:\\n- **Material type:** Metal (specifically, aluminum foil)\\n- **Category:** Recyclable, but only if clean and properly prepared[3][5].\\n\\n### Reuse and Repurposing Ideas:\\n- **Reuse for food storage:** If the foil can be cleaned, it can be used again to wrap or cover food.\\n- **Household uses:** Used foil can be employed for sharpening scissors, scrubbing pots and pans, or as a makeshift funnel.\\n- **Craft projects:** Foil is useful for art projects, such as creating textures or shaping small models.\\n- **Gardening:** Pieces of foil can be used to deter pests from plants or to reflect sunlight onto indoor seedlings.\\n\\n### Recycling Tips:\\n- **Cleanliness is key:** Only recycle foil if it is **free from food residues**[5]. Dirty foil should be cleaned before recycling.\\n- **Ball up small pieces:** Collect smaller used pieces and compact them into a ball about the size of a tennis ball. This ensures it doesn’t get lost in recycling machinery and actually gets processed[1][3].\\n- **Check local guidelines:** Not all municipal programs accept used foil, especially if it is contaminated. Check your local recycling program’s rules[3].\\n\\nIf the foil cannot be cleaned, prioritize **reuse** before disposal to minimize environmental impact[6].'}, 'delta': {'role': 'assistant', 'content': ''}}]}\n",
    "print(x[\"search_results\"])\n",
    "print(x[\"choices\"][0][\"message\"][\"content\"])"
   ]
  },
  {
   "cell_type": "code",
   "execution_count": 24,
   "id": "21bf8b3c",
   "metadata": {},
   "outputs": [
    {
     "name": "stdout",
     "output_type": "stream",
     "text": [
      "### Waste Classification\n",
      "Based on the image, this appears to be **crumpled aluminum foil**, likely from kitchen use (e.g., food wrapping, baking, or cooking). It falls under the category of **recyclable metal waste** (specifically, aluminum). If clean and uncontaminated, it's highly recyclable at most curbside programs. However, if soiled with food residue (as suggested by the yellowish stains), it should be rinsed before recycling to avoid contamination, or considered for reuse/composting if not recyclable locally. This is non-hazardous household waste, not biodegradable, and commonly generated from food preparation.\n",
      "\n",
      "### Potential Reuse Ideas\n",
      "Aluminum foil is versatile and durable, so even crumpled pieces can be repurposed creatively to reduce waste. Here are some practical ideas (assuming it's cleaned first for hygiene):\n",
      "\n",
      "1. **Kitchen Liners or Wrappers**: Smooth it out and reuse it to line baking trays, cover dishes in the microwave/oven, or wrap leftovers/grilled foods. It's heat-resistant and non-stick.\n",
      "\n",
      "2. **Garden Pest Deterrent**: Crumple pieces loosely and hang them around plants (e.g., on stakes or fences). The shiny surface reflects light, scaring off birds, slugs, or aphids without chemicals.\n",
      "\n",
      "3. **DIY Crafts or Decor**: Flatten and cut the foil for simple sculptures, metallic accents in art projects, or even as a base for kids' crafts like making shiny ornaments or bookmarks. If you have multiple pieces, layer them for a textured wall hanging.\n",
      "\n",
      "4. **Photography or Plant Light Reflector**: Use the reflective surface to bounce light in indoor photography setups or to direct sunlight toward houseplants/potted herbs, improving growth in low-light areas.\n",
      "\n",
      "5. **Emergency Insulation or Packing**: Stuff small crumpled balls into gaps for temporary insulation (e.g., around drafts in windows) or use as protective padding when shipping fragile items, like wrapping around glassware for cushioning.\n",
      "\n",
      "If the foil is too soiled or damaged, recycling remains the best option—aluminum can be recycled infinitely with minimal energy loss. For local guidelines, check your area's waste management rules! If this isn't the classification you meant, feel free to provide more details.\n"
     ]
    }
   ],
   "source": [
    "x = {'id': 'gen-1758340722-Bic12Z3gjaAwDzUmionI', 'provider': 'xAI', 'model': 'x-ai/grok-4-fast:free', 'object': 'chat.completion', 'created': 1758340722, 'choices': [{'logprobs': None, 'finish_reason': 'stop', 'native_finish_reason': 'stop', 'index': 0, 'message': {'role': 'assistant', 'content': \"### Waste Classification\\nBased on the image, this appears to be **crumpled aluminum foil**, likely from kitchen use (e.g., food wrapping, baking, or cooking). It falls under the category of **recyclable metal waste** (specifically, aluminum). If clean and uncontaminated, it's highly recyclable at most curbside programs. However, if soiled with food residue (as suggested by the yellowish stains), it should be rinsed before recycling to avoid contamination, or considered for reuse/composting if not recyclable locally. This is non-hazardous household waste, not biodegradable, and commonly generated from food preparation.\\n\\n### Potential Reuse Ideas\\nAluminum foil is versatile and durable, so even crumpled pieces can be repurposed creatively to reduce waste. Here are some practical ideas (assuming it's cleaned first for hygiene):\\n\\n1. **Kitchen Liners or Wrappers**: Smooth it out and reuse it to line baking trays, cover dishes in the microwave/oven, or wrap leftovers/grilled foods. It's heat-resistant and non-stick.\\n\\n2. **Garden Pest Deterrent**: Crumple pieces loosely and hang them around plants (e.g., on stakes or fences). The shiny surface reflects light, scaring off birds, slugs, or aphids without chemicals.\\n\\n3. **DIY Crafts or Decor**: Flatten and cut the foil for simple sculptures, metallic accents in art projects, or even as a base for kids' crafts like making shiny ornaments or bookmarks. If you have multiple pieces, layer them for a textured wall hanging.\\n\\n4. **Photography or Plant Light Reflector**: Use the reflective surface to bounce light in indoor photography setups or to direct sunlight toward houseplants/potted herbs, improving growth in low-light areas.\\n\\n5. **Emergency Insulation or Packing**: Stuff small crumpled balls into gaps for temporary insulation (e.g., around drafts in windows) or use as protective padding when shipping fragile items, like wrapping around glassware for cushioning.\\n\\nIf the foil is too soiled or damaged, recycling remains the best option—aluminum can be recycled infinitely with minimal energy loss. For local guidelines, check your area's waste management rules! If this isn't the classification you meant, feel free to provide more details.\", 'refusal': None, 'reasoning': None}}], 'system_fingerprint': 'fp_2c668d4396', 'usage': {'prompt_tokens': 384, 'completion_tokens': 650, 'total_tokens': 1034, 'prompt_tokens_details': {'cached_tokens': 383, 'audio_tokens': 0}, 'completion_tokens_details': {'reasoning_tokens': 210}}}\n",
    "print(x[\"choices\"][0][\"message\"][\"content\"])"
   ]
  },
  {
   "cell_type": "code",
   "execution_count": null,
   "id": "c2a05cc9",
   "metadata": {},
   "outputs": [],
   "source": []
  },
  {
   "cell_type": "code",
   "execution_count": 18,
   "id": "9d2f99bb",
   "metadata": {},
   "outputs": [],
   "source": [
    "from dotenv import load_dotenv\n",
    "import os\n",
    "import requests\n",
    "import base64\n",
    "from PIL import Image\n",
    "from io import BytesIO\n",
    "import json"
   ]
  },
  {
   "cell_type": "code",
   "execution_count": 19,
   "id": "b365e40b",
   "metadata": {},
   "outputs": [],
   "source": [
    "with Image.open(\"C:/Users/pyedu/Desktop/EcoLife/Garbage Classfn Datasets/garbage-classfn by asdasdasasdas/Garbage classification/Garbage classification/metal/metal16.jpg\") as img:\n",
    "    img_resized = img.resize((400, 300))\n",
    "    buffered = BytesIO()\n",
    "    img_resized.save(buffered, format=\"PNG\")\n",
    "    base64_img = base64.b64encode(buffered.getvalue()).decode()\n",
    "img_data_uri = f\"data:image/png;base64,{base64_img}\""
   ]
  },
  {
   "cell_type": "code",
   "execution_count": 20,
   "metadata": {},
   "outputs": [
    {
     "name": "stdout",
     "output_type": "stream",
     "text": [
      "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\n"
     ]
    }
   ],
   "source": [
    "load_dotenv()  # loads variables from .env file in current directory\n",
    "print(os.getenv(\"OPEN_ROUTER_API_KEY\"))\n",
    "OPEN_ROUTER_API_KEY = \"Bearer \" +  os.getenv(\"OPEN_ROUTER_API_KEY\")"
   ]
  },
  {
   "cell_type": "code",
   "execution_count": null,
   "id": "92c77228",
   "metadata": {},
   "outputs": [],
   "source": []
  },
  {
   "cell_type": "code",
   "execution_count": null,
   "id": "527b0f2b",
   "metadata": {},
   "outputs": [],
   "source": []
  },
  {
   "cell_type": "code",
   "execution_count": 21,
   "metadata": {},
   "outputs": [],
   "source": [
    "car_type = \"honda brio\"\n",
    "distance = \"10kms\""
   ]
  },
  {
   "cell_type": "code",
   "execution_count": null,
   "id": "cb2f11a3",
   "metadata": {},
   "outputs": [
    {
     "name": "stdout",
     "output_type": "stream",
     "text": [
      "{'id': 'gen-1758342237-WvxqJ919UwqghsKIxf02', 'provider': 'xAI', 'model': 'x-ai/grok-4-fast:free', 'object': 'chat.completion', 'created': 1758342237, 'choices': [{'logprobs': None, 'finish_reason': 'stop', 'native_finish_reason': 'stop', 'index': 0, 'message': {'role': 'assistant', 'content': '{\"footprint\": 1200, \"tips\": \"Carpool or use public transport; Maintain efficient driving habits; Consider electric vehicle for future trips.\"}', 'refusal': None, 'reasoning': None}}], 'system_fingerprint': 'fp_2c668d4396', 'usage': {'prompt_tokens': 189, 'completion_tokens': 355, 'total_tokens': 544, 'prompt_tokens_details': {'cached_tokens': 167, 'audio_tokens': 0}, 'completion_tokens_details': {'reasoning_tokens': 323}}}\n"
     ]
    }
   ],
   "source": [
    "response = requests.post(\n",
    "  url=\"https://openrouter.ai/api/v1/chat/completions\",\n",
    "  headers={\n",
    "    \"Authorization\": OPEN_ROUTER_API_KEY,\n",
    "    \"Content-Type\": \"application/json\",\n",
    "  },\n",
    "  data=json.dumps({\n",
    "    \"model\": \"x-ai/grok-4-fast:free\",\n",
    "    \"messages\": [\n",
    "      {\n",
    "        \"role\": \"user\",\n",
    "        \"content\": [\n",
    "          # {\n",
    "          #   \"type\": \"text\",\n",
    "          #   \"text\": \"Classify this waste image and give potential reuse ideas\"\n",
    "          # },\n",
    "          # {\n",
    "          #   \"type\": \"image_url\",\n",
    "          #   \"image_url\": {\"url\": img_data_uri}\n",
    "          # }\n",
    "\n",
    "          {\"type\": \"text\",\n",
    "          \"text\": f\"YOu are a carbon footprint tracker, I travelled {distance} in my {car_type} car. Estimate the carbon footprint in whatever metric and give me the output as just a number in grams and some tips to reduce the footprint, be very concise this is for an app. Give the output text in a json format with footprint and tips as the separate fields\"},\n",
    "        ]\n",
    "      }\n",
    "    ],\n",
    "  })\n",
    ")\n",
    "\n",
    "print(response.json())"
   ]
  },
  {
   "cell_type": "markdown",
   "id": "d71d8d2b",
   "metadata": {},
   "source": []
  },
  {
   "cell_type": "code",
   "execution_count": 32,
   "id": "ee1d64e7",
   "metadata": {},
   "outputs": [],
   "source": [
    "x = json.loads(response.json()[\"choices\"][0][\"message\"][\"content\"])"
   ]
  },
  {
   "cell_type": "code",
   "execution_count": 35,
   "id": "63c9bab8",
   "metadata": {},
   "outputs": [
    {
     "data": {
      "text/plain": [
       "'Carpool or use public transport; Maintain efficient driving habits; Consider electric vehicle for future trips.'"
      ]
     },
     "execution_count": 35,
     "metadata": {},
     "output_type": "execute_result"
    }
   ],
   "source": [
    "x['tips']"
   ]
  },
  {
   "cell_type": "code",
   "execution_count": null,
   "id": "3ce333ab",
   "metadata": {},
   "outputs": [],
   "source": []
  }
 ],
 "metadata": {
  "kernelspec": {
   "display_name": "eco-life-venv",
   "language": "python",
   "name": "python3"
  },
  "language_info": {
   "codemirror_mode": {
    "name": "ipython",
    "version": 3
   },
   "file_extension": ".py",
   "mimetype": "text/x-python",
   "name": "python",
   "nbconvert_exporter": "python",
   "pygments_lexer": "ipython3",
   "version": "3.13.7"
  }
 },
 "nbformat": 4,
 "nbformat_minor": 5
}
